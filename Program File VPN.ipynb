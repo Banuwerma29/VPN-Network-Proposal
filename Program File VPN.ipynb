{
 "cells": [
  {
   "cell_type": "code",
   "execution_count": null,
   "id": "f22fad14",
   "metadata": {},
   "outputs": [
    {
     "name": "stdout",
     "output_type": "stream",
     "text": [
      "Welcome to the VPN Network Proposal Generator!\n",
      "Please provide the following information to generate the proposal:\n",
      "\n"
     ]
    }
   ],
   "source": [
    "def generate_vpn_proposal():\n",
    "    print(\"Welcome to the VPN Network Proposal Generator!\")\n",
    "    print(\"Please provide the following information to generate the proposal:\\n\")\n",
    "\n",
    "    company_name = input(\"Enter your company name: \")\n",
    "    vpn_type = input(\"Enter the type of VPN (Site-to-Site or Remote Access): \")\n",
    "    vpn_protocol = input(\"Enter the VPN protocol (e.g., IPsec, SSL/TLS): \")\n",
    "    bandwidth_requirements = input(\"Enter the bandwidth requirements (in Mbps): \")\n",
    "    security_requirements = input(\"Enter the security requirements (e.g., encryption, authentication): \")\n",
    "\n",
    "    # Generate proposal based on provided information\n",
    "    proposal = f\"\"\"\n",
    "    VPN Network Proposal for {company_name}\n",
    "\n",
    "    VPN Type: {vpn_type}\n",
    "    VPN Protocol: {vpn_protocol}\n",
    "    Bandwidth Requirements: {bandwidth_requirements} Mbps\n",
    "    Security Requirements: {security_requirements}\n",
    "\n",
    "    Proposal Summary:\n",
    "    - Implement a {vpn_type} VPN using {vpn_protocol} protocol.\n",
    "    - Allocate {bandwidth_requirements} Mbps bandwidth for VPN traffic.\n",
    "    - Enforce {security_requirements} for secure communication.\n",
    "    \n",
    "    Additional Details:\n",
    "    - Include firewall rules to restrict unauthorized access.\n",
    "    - Configure VPN clients/devices with proper encryption and authentication mechanisms.\n",
    "    - Regularly update VPN software and security patches to mitigate vulnerabilities.\n",
    "\n",
    "    For further inquiries or customization, please contact [Your Contact Information].\n",
    "    \"\"\"\n",
    "\n",
    "    print(\"\\nProposal Generated Successfully!\\n\")\n",
    "    print(proposal)\n",
    "\n",
    "\n",
    "if __name__ == \"__main__\":\n",
    "    generate_vpn_proposal()"
   ]
  },
  {
   "cell_type": "code",
   "execution_count": null,
   "id": "b212db9c",
   "metadata": {},
   "outputs": [],
   "source": []
  }
 ],
 "metadata": {
  "kernelspec": {
   "display_name": "Python 3 (ipykernel)",
   "language": "python",
   "name": "python3"
  },
  "language_info": {
   "codemirror_mode": {
    "name": "ipython",
    "version": 3
   },
   "file_extension": ".py",
   "mimetype": "text/x-python",
   "name": "python",
   "nbconvert_exporter": "python",
   "pygments_lexer": "ipython3",
   "version": "3.11.4"
  }
 },
 "nbformat": 4,
 "nbformat_minor": 5
}
